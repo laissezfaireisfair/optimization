{
 "cells": [
  {
   "metadata": {},
   "cell_type": "markdown",
   "source": "# Метод ломаных для поиска нуля"
  },
  {
   "metadata": {},
   "cell_type": "markdown",
   "source": "### Импорт зависимостей"
  },
  {
   "cell_type": "code",
   "metadata": {
    "collapsed": true,
    "ExecuteTime": {
     "end_time": "2024-10-04T07:17:25.753125802Z",
     "start_time": "2024-10-04T07:17:20.990611099Z"
    }
   },
   "source": [
    "%use kandy\n",
    "import kotlin.math.cos"
   ],
   "outputs": [],
   "execution_count": 1
  },
  {
   "metadata": {},
   "cell_type": "markdown",
   "source": [
    "### Условия\n",
    "$$[0, 10]$$\n",
    "$$f(x) = \\cos(x) - \\frac {x^2 - 10x} {100}$$\n",
    "$$e_1 = 10^{-2}$$\n",
    "$$e_2 = 10^{-4}$$"
   ]
  },
  {
   "metadata": {},
   "cell_type": "code",
   "outputs": [],
   "execution_count": null,
   "source": [
    "val from = 0.0\n",
    "val to = 10.0\n",
    "fun func(x: Double) = cos(x) - (x * x - 10 * x) / 100\n",
    "val epsilon1 = 1e-2\n",
    "val epsilon2 = 1e-4"
   ]
  }
 ],
 "metadata": {
  "kernelspec": {
   "display_name": "Kotlin",
   "language": "kotlin",
   "name": "kotlin"
  },
  "language_info": {
   "name": "kotlin",
   "version": "1.9.23",
   "mimetype": "text/x-kotlin",
   "file_extension": ".kt",
   "pygments_lexer": "kotlin",
   "codemirror_mode": "text/x-kotlin",
   "nbconvert_exporter": ""
  }
 },
 "nbformat": 4,
 "nbformat_minor": 0
}
